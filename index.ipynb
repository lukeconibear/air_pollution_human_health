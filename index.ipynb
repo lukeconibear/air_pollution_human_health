{
 "cells": [
  {
   "cell_type": "markdown",
   "id": "0f5a3270-b430-4590-9460-a44cc9432ea4",
   "metadata": {
    "slideshow": {
     "slide_type": "slide"
    },
    "tags": []
   },
   "source": [
    "# Air pollution and human health\n",
    "\n",
    "Luke Conibear  \n",
    "L.A.Conibear@leeds.ac.uk  "
   ]
  },
  {
   "cell_type": "markdown",
   "id": "8e490e8a-b5a5-4839-89ff-37f0e85a460a",
   "metadata": {
    "slideshow": {
     "slide_type": "slide"
    },
    "tags": []
   },
   "source": [
    "![slide1_air_pollution_pathway.png](images/slide1_air_pollution_pathway.png)  "
   ]
  },
  {
   "cell_type": "markdown",
   "id": "7af460b5-fd39-4e53-9476-3aac9b8b05fc",
   "metadata": {
    "slideshow": {
     "slide_type": "slide"
    },
    "tags": []
   },
   "source": [
    "![slide2_sources.png](images/slide2_sources.png)  "
   ]
  },
  {
   "cell_type": "markdown",
   "id": "368abc9e-d2ea-4b2b-9fa4-11cc6388b949",
   "metadata": {
    "slideshow": {
     "slide_type": "subslide"
    },
    "tags": []
   },
   "source": [
    "![slide2-1_sources.png](images/slide2-1_sources.png)  "
   ]
  },
  {
   "cell_type": "markdown",
   "id": "caaa8016-4204-427b-8c8c-6ae8a332cd37",
   "metadata": {
    "slideshow": {
     "slide_type": "slide"
    },
    "tags": []
   },
   "source": [
    "![slide3_ladder.png](images/slide3_ladder.png)  "
   ]
  },
  {
   "cell_type": "markdown",
   "id": "4effcd41-3d6c-4243-90f0-94c5f40baaa4",
   "metadata": {
    "slideshow": {
     "slide_type": "subslide"
    },
    "tags": []
   },
   "source": [
    "![slide3-1_ladder.png](images/slide3-1_ladder.png)  "
   ]
  },
  {
   "cell_type": "markdown",
   "id": "b4f9dd0d-6f3d-4ecd-b5a5-035f49575ba1",
   "metadata": {
    "slideshow": {
     "slide_type": "slide"
    },
    "tags": []
   },
   "source": [
    "![slide4_sfu.png](images/slide4_sfu.png)"
   ]
  },
  {
   "cell_type": "markdown",
   "id": "a314b6ca-dcef-45b1-b59f-733020abb4fb",
   "metadata": {
    "slideshow": {
     "slide_type": "subslide"
    },
    "tags": []
   },
   "source": [
    "![slide4-1_sfu.png](images/slide4-1_sfu.png)  "
   ]
  },
  {
   "cell_type": "markdown",
   "id": "d0d85cba-ac26-4253-9f1f-8d28d5b4795b",
   "metadata": {
    "slideshow": {
     "slide_type": "subslide"
    },
    "tags": []
   },
   "source": [
    "![slide4-2_sfu.png](images/slide4-2_sfu.png)  "
   ]
  },
  {
   "cell_type": "markdown",
   "id": "6455841f-7cdd-4b15-8dee-611ff9ebe32e",
   "metadata": {
    "slideshow": {
     "slide_type": "slide"
    },
    "tags": []
   },
   "source": [
    "![slide5_pm.png](images/slide5_pm.png)"
   ]
  },
  {
   "cell_type": "markdown",
   "id": "75cacbb7-3066-44cc-83b9-11d1e16ed504",
   "metadata": {
    "slideshow": {
     "slide_type": "subslide"
    },
    "tags": []
   },
   "source": [
    "![slide5-1_pm.png](images/slide5-1_pm.png)"
   ]
  },
  {
   "cell_type": "code",
   "execution_count": 4,
   "id": "ca8f8b94-7daa-4932-99bc-e7038c67a232",
   "metadata": {
    "slideshow": {
     "slide_type": "skip"
    },
    "tags": []
   },
   "outputs": [],
   "source": [
    "from IPython.display import IFrame"
   ]
  },
  {
   "cell_type": "code",
   "execution_count": 7,
   "id": "68ac716c-c9ef-4c67-85c8-c5fa8377dbc1",
   "metadata": {
    "slideshow": {
     "slide_type": "subslide"
    },
    "tags": [
     "remove_input"
    ]
   },
   "outputs": [
    {
     "data": {
      "text/html": [
       "\n",
       "        <iframe\n",
       "            width=\"700\"\n",
       "            height=\"700\"\n",
       "            src=\"https://ourworldindata.org/grapher/PM25-air-pollution?year=1990\"\n",
       "            frameborder=\"0\"\n",
       "            allowfullscreen\n",
       "            \n",
       "        ></iframe>\n",
       "        "
      ],
      "text/plain": [
       "<IPython.lib.display.IFrame at 0x7f270c3be6e0>"
      ]
     },
     "execution_count": 7,
     "metadata": {},
     "output_type": "execute_result"
    }
   ],
   "source": [
    "IFrame('https://ourworldindata.org/grapher/PM25-air-pollution?year=1990', width=\"700\", height=\"700\")"
   ]
  },
  {
   "cell_type": "code",
   "execution_count": 8,
   "id": "72550cf0-df9f-461b-b6b9-0e28cfd2c8bd",
   "metadata": {
    "slideshow": {
     "slide_type": "subslide"
    },
    "tags": [
     "remove_input"
    ]
   },
   "outputs": [
    {
     "data": {
      "text/html": [
       "\n",
       "        <iframe\n",
       "            width=\"700\"\n",
       "            height=\"700\"\n",
       "            src=\"https://ourworldindata.org/grapher/access-to-clean-fuels-and-technologies-for-cooking\"\n",
       "            frameborder=\"0\"\n",
       "            allowfullscreen\n",
       "            \n",
       "        ></iframe>\n",
       "        "
      ],
      "text/plain": [
       "<IPython.lib.display.IFrame at 0x7f270c50a440>"
      ]
     },
     "execution_count": 8,
     "metadata": {},
     "output_type": "execute_result"
    }
   ],
   "source": [
    "IFrame('https://ourworldindata.org/grapher/access-to-clean-fuels-and-technologies-for-cooking', width=\"700\", height=\"700\")"
   ]
  },
  {
   "cell_type": "markdown",
   "id": "020bbbb0-c86f-4226-bb3c-80efc618aac7",
   "metadata": {
    "slideshow": {
     "slide_type": "slide"
    },
    "tags": []
   },
   "source": [
    "![](images/slide6_o3.png)"
   ]
  },
  {
   "cell_type": "markdown",
   "id": "6142016f-a4e3-44f9-a9ce-f3759e6d9df3",
   "metadata": {
    "slideshow": {
     "slide_type": "subslide"
    },
    "tags": []
   },
   "source": [
    "![](images/slide6-1_o3.png)"
   ]
  },
  {
   "cell_type": "markdown",
   "id": "7be37e62-0e4a-4c5a-84a1-478d39a667e5",
   "metadata": {
    "slideshow": {
     "slide_type": "subslide"
    },
    "tags": []
   },
   "source": [
    "![](images/slide6-2_o3.png)"
   ]
  },
  {
   "cell_type": "markdown",
   "id": "d8c38b88-c5dd-4ff5-b597-66b94d038162",
   "metadata": {
    "slideshow": {
     "slide_type": "slide"
    },
    "tags": []
   },
   "source": [
    "![](images/slide7_causal.png)"
   ]
  },
  {
   "cell_type": "markdown",
   "id": "56eff0a0-16d5-43f1-927f-82ce483e5a19",
   "metadata": {
    "slideshow": {
     "slide_type": "subslide"
    },
    "tags": []
   },
   "source": [
    "![](images/slide7-1_causal.png)"
   ]
  },
  {
   "cell_type": "markdown",
   "id": "eaf8d3e1-70d7-4d97-98e1-0b673e9ecca6",
   "metadata": {
    "slideshow": {
     "slide_type": "slide"
    },
    "tags": []
   },
   "source": [
    "![](images/slide8_mechanism.png)"
   ]
  },
  {
   "cell_type": "markdown",
   "id": "ed58fb28-65bd-414e-aa62-46f5c2e60e66",
   "metadata": {
    "slideshow": {
     "slide_type": "subslide"
    },
    "tags": []
   },
   "source": [
    "![](images/slide8-1_mechanism.png)"
   ]
  },
  {
   "cell_type": "markdown",
   "id": "b7698448-708d-43f0-b318-a9dce806152c",
   "metadata": {
    "slideshow": {
     "slide_type": "subslide"
    },
    "tags": []
   },
   "source": [
    "![](images/slide8-2_mechanism.png)"
   ]
  },
  {
   "cell_type": "code",
   "execution_count": 9,
   "id": "6c49e3f1-b37f-49a3-9e49-63fff85b1961",
   "metadata": {
    "slideshow": {
     "slide_type": "subslide"
    },
    "tags": [
     "remove_input"
    ]
   },
   "outputs": [
    {
     "data": {
      "text/html": [
       "\n",
       "        <iframe\n",
       "            width=\"700\"\n",
       "            height=\"700\"\n",
       "            src=\"https://www.youtube.com/embed/GVBeY1jSG9Y?start=36&amp;mute=1&amp;enablejsapi=1\"\n",
       "            frameborder=\"0\"\n",
       "            allowfullscreen\n",
       "            \n",
       "        ></iframe>\n",
       "        "
      ],
      "text/plain": [
       "<IPython.lib.display.IFrame at 0x7f270c567850>"
      ]
     },
     "execution_count": 9,
     "metadata": {},
     "output_type": "execute_result"
    }
   ],
   "source": [
    "IFrame('https://www.youtube.com/embed/GVBeY1jSG9Y?start=36&amp;mute=1&amp;enablejsapi=1', width=\"700\", height=\"700\")"
   ]
  },
  {
   "cell_type": "markdown",
   "id": "97953445-7256-4b2e-9d20-1316b852b796",
   "metadata": {
    "slideshow": {
     "slide_type": "slide"
    },
    "tags": []
   },
   "source": [
    "![](images/slide9_disease.png)"
   ]
  },
  {
   "cell_type": "markdown",
   "id": "9981859a-56fb-4ace-9cd4-14cbd26d99d8",
   "metadata": {
    "slideshow": {
     "slide_type": "subslide"
    },
    "tags": []
   },
   "source": [
    "Mechanisms overlap, interfere with other risks (e.g. diet).  \n",
    "Long-term (chronic) effects > short-term (acute) effects.  \n",
    "\n",
    "![](images/slide9-1_disease.png)"
   ]
  },
  {
   "cell_type": "markdown",
   "id": "d47b9e61-be08-4c00-9bc8-6f011899b278",
   "metadata": {
    "slideshow": {
     "slide_type": "subslide"
    },
    "tags": []
   },
   "source": [
    "![](images/slide9-2_disease.png)"
   ]
  },
  {
   "cell_type": "markdown",
   "id": "3971d8cc-6165-4a45-bfb4-773419a67806",
   "metadata": {
    "slideshow": {
     "slide_type": "slide"
    },
    "tags": []
   },
   "source": [
    "![](images/slide10_risk.png)"
   ]
  },
  {
   "cell_type": "markdown",
   "id": "12e025b6-f20f-44ee-a1ec-18e6e87b0397",
   "metadata": {
    "slideshow": {
     "slide_type": "subslide"
    },
    "tags": []
   },
   "source": [
    "Ischaemic heart disease (IHD), ischaemic and hemorrhagic stroke (STR), chronic obstructive pulmonary disease (COPD), lower respiratory infections (LRI), lung cancer (LC), and type II diabetes (DIAB).\n",
    "\n",
    "![](images/slide10-1_risk.png)\n",
    "\n",
    "GBD 2017 Risk Factor Collaborators. (2018)"
   ]
  },
  {
   "cell_type": "markdown",
   "id": "fec10023-4e2c-4e9f-847a-9895dbbcdc5c",
   "metadata": {
    "slideshow": {
     "slide_type": "subslide"
    },
    "tags": []
   },
   "source": [
    "![](images/slide10-2_risk.png)\n",
    "\n",
    "GBD 2017 Risk Factor Collaborators. (2018)"
   ]
  },
  {
   "cell_type": "markdown",
   "id": "8382a3f8-4195-4655-ba43-5c4b52bf1ce5",
   "metadata": {
    "slideshow": {
     "slide_type": "slide"
    },
    "tags": []
   },
   "source": [
    "![](images/slide11_burden_apm25.png)"
   ]
  },
  {
   "cell_type": "code",
   "execution_count": 10,
   "id": "0c2ab096-5e69-4d46-b5a7-f0abc701a560",
   "metadata": {
    "slideshow": {
     "slide_type": "subslide"
    },
    "tags": [
     "remove_input"
    ]
   },
   "outputs": [
    {
     "data": {
      "text/html": [
       "\n",
       "        <iframe\n",
       "            width=\"700\"\n",
       "            height=\"700\"\n",
       "            src=\"https://ihmeuw.org/5eeo\"\n",
       "            frameborder=\"0\"\n",
       "            allowfullscreen\n",
       "            \n",
       "        ></iframe>\n",
       "        "
      ],
      "text/plain": [
       "<IPython.lib.display.IFrame at 0x7f270c50b340>"
      ]
     },
     "execution_count": 10,
     "metadata": {},
     "output_type": "execute_result"
    }
   ],
   "source": [
    "IFrame('https://ihmeuw.org/5eeo', width=\"700\", height=\"700\")"
   ]
  },
  {
   "cell_type": "markdown",
   "id": "e9c18439-cbf7-4204-8035-0282b855245b",
   "metadata": {
    "slideshow": {
     "slide_type": "slide"
    },
    "tags": []
   },
   "source": [
    "![](images/slide12_burden_hpm25.png)"
   ]
  },
  {
   "cell_type": "code",
   "execution_count": 11,
   "id": "99e99c61-ec10-485c-be90-e28df3eabc8a",
   "metadata": {
    "slideshow": {
     "slide_type": "subslide"
    },
    "tags": [
     "remove_input"
    ]
   },
   "outputs": [
    {
     "data": {
      "text/html": [
       "\n",
       "        <iframe\n",
       "            width=\"700\"\n",
       "            height=\"700\"\n",
       "            src=\"https://ihmeuw.org/5eeq\"\n",
       "            frameborder=\"0\"\n",
       "            allowfullscreen\n",
       "            \n",
       "        ></iframe>\n",
       "        "
      ],
      "text/plain": [
       "<IPython.lib.display.IFrame at 0x7f270c523b20>"
      ]
     },
     "execution_count": 11,
     "metadata": {},
     "output_type": "execute_result"
    }
   ],
   "source": [
    "IFrame('https://ihmeuw.org/5eeq', width=\"700\", height=\"700\")"
   ]
  },
  {
   "cell_type": "markdown",
   "id": "1ad73ffc-97f0-4754-805b-1882c976fa11",
   "metadata": {
    "slideshow": {
     "slide_type": "slide"
    },
    "tags": []
   },
   "source": [
    "![](images/slide13_burden_o3.png)"
   ]
  },
  {
   "cell_type": "code",
   "execution_count": 12,
   "id": "1ff21376-9fda-4c2e-b10d-c50cac618ce3",
   "metadata": {
    "slideshow": {
     "slide_type": "subslide"
    },
    "tags": [
     "remove_input"
    ]
   },
   "outputs": [
    {
     "data": {
      "text/html": [
       "\n",
       "        <iframe\n",
       "            width=\"700\"\n",
       "            height=\"700\"\n",
       "            src=\"https://ihmeuw.org/5ees\"\n",
       "            frameborder=\"0\"\n",
       "            allowfullscreen\n",
       "            \n",
       "        ></iframe>\n",
       "        "
      ],
      "text/plain": [
       "<IPython.lib.display.IFrame at 0x7f270c3a8ee0>"
      ]
     },
     "execution_count": 12,
     "metadata": {},
     "output_type": "execute_result"
    }
   ],
   "source": [
    "IFrame('https://ihmeuw.org/5ees', width=\"700\", height=\"700\")"
   ]
  },
  {
   "cell_type": "markdown",
   "id": "636262e2-9fdf-4a46-a6bd-496a6f13d4df",
   "metadata": {
    "slideshow": {
     "slide_type": "slide"
    },
    "tags": []
   },
   "source": [
    "![](images/slide14_burden_disease.png)"
   ]
  },
  {
   "cell_type": "code",
   "execution_count": 13,
   "id": "9f94d69f-9c79-48e6-b2d0-b9e768dd6083",
   "metadata": {
    "slideshow": {
     "slide_type": "subslide"
    },
    "tags": [
     "remove_input"
    ]
   },
   "outputs": [
    {
     "data": {
      "text/html": [
       "\n",
       "        <iframe\n",
       "            width=\"700\"\n",
       "            height=\"700\"\n",
       "            src=\"https://ihmeuw.org/5eet\"\n",
       "            frameborder=\"0\"\n",
       "            allowfullscreen\n",
       "            \n",
       "        ></iframe>\n",
       "        "
      ],
      "text/plain": [
       "<IPython.lib.display.IFrame at 0x7f270c3aafb0>"
      ]
     },
     "execution_count": 13,
     "metadata": {},
     "output_type": "execute_result"
    }
   ],
   "source": [
    "IFrame('https://ihmeuw.org/5eet', width=\"700\", height=\"700\")"
   ]
  },
  {
   "cell_type": "markdown",
   "id": "4ed70012-d130-437f-9415-d1e070f478b9",
   "metadata": {
    "slideshow": {
     "slide_type": "slide"
    },
    "tags": []
   },
   "source": [
    "![](images/slide15_burden_ranked.png)"
   ]
  },
  {
   "cell_type": "code",
   "execution_count": 14,
   "id": "3886c377-a779-41e3-8c88-bbaaccea74f2",
   "metadata": {
    "slideshow": {
     "slide_type": "subslide"
    },
    "tags": [
     "remove_input"
    ]
   },
   "outputs": [
    {
     "data": {
      "text/html": [
       "\n",
       "        <iframe\n",
       "            width=\"700\"\n",
       "            height=\"700\"\n",
       "            src=\"https://ihmeuw.org/5eeu\"\n",
       "            frameborder=\"0\"\n",
       "            allowfullscreen\n",
       "            \n",
       "        ></iframe>\n",
       "        "
      ],
      "text/plain": [
       "<IPython.lib.display.IFrame at 0x7f270c3eee30>"
      ]
     },
     "execution_count": 14,
     "metadata": {},
     "output_type": "execute_result"
    }
   ],
   "source": [
    "IFrame('https://ihmeuw.org/5eeu', width=\"700\", height=\"700\")"
   ]
  },
  {
   "cell_type": "markdown",
   "id": "869c7048-602a-4922-b37c-cda20c59ee44",
   "metadata": {
    "slideshow": {
     "slide_type": "slide"
    },
    "tags": []
   },
   "source": [
    "![](images/slide16_burden_sources.png)"
   ]
  },
  {
   "cell_type": "markdown",
   "id": "8ef320f5-e926-42d3-9248-3c21d4f619d9",
   "metadata": {
    "slideshow": {
     "slide_type": "subslide"
    },
    "tags": []
   },
   "source": [
    "![](images/slide16-1_burden_sources.png)"
   ]
  },
  {
   "cell_type": "markdown",
   "id": "fc857947-4a39-4d18-8eac-d92452ab1100",
   "metadata": {
    "slideshow": {
     "slide_type": "slide"
    },
    "tags": []
   },
   "source": [
    "![](images/slide17_burden_future.png)"
   ]
  },
  {
   "cell_type": "markdown",
   "id": "465a0864-5fde-4395-ba54-7bc0ea322ace",
   "metadata": {
    "slideshow": {
     "slide_type": "subslide"
    },
    "tags": []
   },
   "source": [
    "![](images/slide17-1_burden_future.png)"
   ]
  },
  {
   "cell_type": "markdown",
   "id": "8ed40131-cf77-42ed-9097-e4e08cf20be4",
   "metadata": {
    "slideshow": {
     "slide_type": "subslide"
    },
    "tags": []
   },
   "source": [
    "![](images/slide17-2_burden_future.png)"
   ]
  },
  {
   "cell_type": "markdown",
   "id": "ef5f1714-85b1-4865-829f-463f392fe98c",
   "metadata": {
    "slideshow": {
     "slide_type": "slide"
    },
    "tags": []
   },
   "source": [
    "## References\n",
    "\n",
    "American Lung Association (2019)\n",
    "\n",
    "Bonjour, S., et al. (2013). Environmental Health Perspectives, 121(7, July), 784790.\n",
    "\n",
    "Clean Cooking Alliance (2020)\n",
    "\n",
    "GBD 2017 Risk Factor Collaborators. (2018). The Lancet, 392, 19231994.\n",
    "\n",
    "Gordon, S. B., et al. (2014). Respiratory risks from household air pollution in low and middle income countries. The Lancet, 2(10), 823860.\n",
    "\n",
    "Guarnieri, M., & Balmes, J. R. (2014). Outdoor air pollution and asthma. The Lancet, 383(9928), 15811592.\n",
    "\n",
    "Hannah Ritchie and Max Roser (2020) - \"Indoor Air Pollution\". Published online at OurWorldInData.org. Retrieved from: 'https://ourworldindata.org/indoor-air-pollution' [Online Resource]\n",
    "\n",
    "Hannah Ritchie and Max Roser (2020) - \"Outdoor Air Pollution\". Published online at OurWorldInData.org. Retrieved from: 'https://ourworldindata.org/outdoor-air-pollution' [Online Resource]\n",
    "\n",
    "Health Effects Institute. 2019. State of Global Air 2019. Data source: Global Burden of Disease Study 2017. IHME, 2018.\n",
    "\n",
    "Icons made by Freepik from Flaticon, licensed by CC 3.0 BY.\n",
    "\n",
    "Institute for Health Metrics and Evaluation. (2019). GBD Compare Data Visualization. vizhub.healthdata.org/gbd-compare"
   ]
  },
  {
   "cell_type": "markdown",
   "id": "2a0bc826-69ed-440f-9792-173e7f2fd772",
   "metadata": {
    "slideshow": {
     "slide_type": "subslide"
    },
    "tags": []
   },
   "source": [
    "Langrish, J. P., et al. (2012). Cardiovascular effects of particulate air pollution exposure: Time course and underlying mechanisms. Journal of Internal Medicine, 272(3), 224239.\n",
    "\n",
    "Lelieveld, J., et al., (2015) The contribution of outdoor air pollution sources to premature mortality on a global scale. Nature 525, 367371.\n",
    "\n",
    "Rosling, H. The magic washing machine. TED (2010).\n",
    "\n",
    "Smith, K. R. Global Burden of Disease due to Household Air Pollution from Cooking Fuel. in NIH/Fogarty Training Workshop on Household Air Pollution (2012).\n",
    "\n",
    "Smith, K. R., & Ezzati, M. (2005). HOW ENVIRONMENTAL HEALTH RISKS CHANGE WITH DEVELOPMENT: The Epidemiologic and Environmental Risk Transitions Revisited. Annual Review of Environment and Resources, 30(1), 291333.\n",
    "\n",
    "Thurston, G. D., et al., (2017). A joint ERS/ATS policy statement: what constitutes an adverse health effect of air pollution? An analytical framework. European Respiratory Journal, 49(1), 1600419.\n",
    "\n",
    "The World Bank, (2020). GDP per capita, PPP (constant 2011 international $) through Gapminder (2020)"
   ]
  }
 ],
 "metadata": {
  "kernelspec": {
   "display_name": "air_pollution_human_health",
   "language": "python",
   "name": "air_pollution_human_health"
  },
  "language_info": {
   "codemirror_mode": {
    "name": "ipython",
    "version": 3
   },
   "file_extension": ".py",
   "mimetype": "text/x-python",
   "name": "python",
   "nbconvert_exporter": "python",
   "pygments_lexer": "ipython3",
   "version": "3.10.2"
  }
 },
 "nbformat": 4,
 "nbformat_minor": 5
}
